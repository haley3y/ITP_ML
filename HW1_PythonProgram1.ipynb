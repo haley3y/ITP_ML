{
  "nbformat": 4,
  "nbformat_minor": 0,
  "metadata": {
    "colab": {
      "name": "HW1_PythonProgram1.ipynb",
      "provenance": [],
      "collapsed_sections": [],
      "include_colab_link": true
    },
    "kernelspec": {
      "name": "python3",
      "display_name": "Python 3"
    }
  },
  "cells": [
    {
      "cell_type": "markdown",
      "metadata": {
        "id": "view-in-github",
        "colab_type": "text"
      },
      "source": [
        "<a href=\"https://colab.research.google.com/github/haley3y/ITP_ML/blob/main/HW1_PythonProgram1.ipynb\" target=\"_parent\"><img src=\"https://colab.research.google.com/assets/colab-badge.svg\" alt=\"Open In Colab\"/></a>"
      ]
    },
    {
      "cell_type": "markdown",
      "metadata": {
        "id": "hm8RAKinXsIP"
      },
      "source": [
        "## **Homework 1**\n",
        "\n",
        "### Create a copy of the notebook to start answering the questions. Name your notebook in the format HW1_lastname_firstname.ipynb to facilitate the grading process. \n",
        "\n",
        "### Answer all the questions, test your code to ensure there are no errors and the results are as expected. Once you have answered all the questions, save the final copy, then go to File-> click on Download.ipynb. Once the local copy has been downloaded, submit your file on Blackboard under the corresponding assignment section. Also provide us a link to your notebook during submission. \n",
        "\n",
        "### **The due date of this homework is 02/05/2021 (Friday).**\n",
        "\n",
        "### Please ensure you follow all the steps mentioned in the homework.\n",
        "\n",
        "### All the questions have a sample input and output to help you understand the question. Please note that your programs will be tested for other sets of inputs and outputs along with the sample provided. So test your code for other inputs.\n",
        "\n",
        "### You can submit your solutions any number of times until the deadline.\n"
      ]
    },
    {
      "cell_type": "markdown",
      "metadata": {
        "id": "uacFrEaZfcfq"
      },
      "source": [
        "##### Q1. Write a program that prompts the user to enter a password then prints the length of the password.\n",
        "\n",
        "```\n",
        "Enter your password: hello\n",
        "Your password is 5 long.\n",
        "```\n",
        "\n",
        "\n"
      ]
    },
    {
      "cell_type": "code",
      "metadata": {
        "id": "avPyES14ftCt",
        "colab": {
          "base_uri": "https://localhost:8080/"
        },
        "outputId": "5e7291ed-1c53-4488-8d4a-d8fda93c112a"
      },
      "source": [
        "# Type solution here\n",
        "user_pw = input(\"Enter your password: \")\n",
        "print(\"Your password is\", len(user_pw), \"long.\")"
      ],
      "execution_count": null,
      "outputs": [
        {
          "output_type": "stream",
          "text": [
            "Enter your password: hhl\n",
            "Your password is 3 long.\n"
          ],
          "name": "stdout"
        }
      ]
    },
    {
      "cell_type": "markdown",
      "metadata": {
        "id": "behD0j_Of2TW"
      },
      "source": [
        "##### Q2. Write a program that prompts the user to enter their full name then prints the number of characters in their name (do not count spaces).\n",
        "\n",
        "```\n",
        "What is your name? Amulya Katti\n",
        "Amulya Katti your name has 11 characters.\n",
        "```"
      ]
    },
    {
      "cell_type": "code",
      "metadata": {
        "id": "XSdIRjwlhSlu",
        "colab": {
          "base_uri": "https://localhost:8080/"
        },
        "outputId": "5d405018-12ae-47ff-fef1-3914d2a59cb6"
      },
      "source": [
        "# Type solution here\n",
        "user_name = input(\"What is your name? \")\n",
        "len_name = len(user_name.replace(\" \",\"\"))\n",
        "print(user_name, \"your name has\",len_name,\"characters.\")\n"
      ],
      "execution_count": null,
      "outputs": [
        {
          "output_type": "stream",
          "text": [
            "What is your name? kjl illkj\n",
            "kjl illkj your name has 8 characters.\n"
          ],
          "name": "stdout"
        }
      ]
    },
    {
      "cell_type": "markdown",
      "metadata": {
        "id": "5KHOWF6FhVHV"
      },
      "source": [
        "##### Q3. Write a program that prompts the user to enter a month (as a number), then prints the name of the month and the number of days in that month. Ensure that the user inputs a valid month and handle any error cases.\n",
        "\n",
        "```\n",
        "Enter the month number: 9\n",
        "September has 30 days\n",
        "```"
      ]
    },
    {
      "cell_type": "code",
      "metadata": {
        "colab": {
          "base_uri": "https://localhost:8080/"
        },
        "id": "cc_tq0P3HUbs",
        "outputId": "2d4bf0e5-cda3-4b2e-a206-086ce38fd104"
      },
      "source": [
        "monthdict = {1:(\"January\",31),2:(\"February\",28),3:(\"March\",31),4:(\"April\",30),5:(\"May\",31),\n",
        "6:(\"June\",30)}\n",
        "# june\n",
        "\n",
        "user = int(input(\"Enter the month number: \"))\n",
        "while user not in monthdict:\n",
        "  print(\"Please enter a number between 1 to 6\")\n",
        "  user = int(input(\"Enter the month number: \"))\n",
        "\n",
        "print(monthdict[user][0], \"has\",monthdict[user][1], \"days\")\n",
        "\n"
      ],
      "execution_count": null,
      "outputs": [
        {
          "output_type": "stream",
          "text": [
            "Enter the month number: 7\n",
            "Please enter a number between 1 to 6\n",
            "Enter the month number: 1\n",
            "January has 31 days\n"
          ],
          "name": "stdout"
        }
      ]
    },
    {
      "cell_type": "code",
      "metadata": {
        "id": "KhS-SAEThyTG",
        "colab": {
          "base_uri": "https://localhost:8080/"
        },
        "outputId": "bba35df5-5a55-4af4-9d0f-016877d3389c"
      },
      "source": [
        "# Type solution here\n",
        "month_num = list(range(1,13))\n",
        "month_dict = {\"3\":\"March\", \"4\":\"April\", \"5\": \"May\", \"6\":\"June\", \"7\":\"July\", \"8\":\"August\", \"9\":\"September\",\n",
        "              \"10\":\"October\", \"11\":\"November\", \"12\":\"December\", \"1\":\"January\", \"2\":\"February\"}\n",
        "user_inp = input(\"Enter the month number: \")\n",
        "while user_inp not in month_dict:\n",
        "    print(\"Invalid input! Please enter a valid month number\")\n",
        "    user_inp = input(\"Enter the month number: \")\n",
        "if int(user_inp) in [1,3,5,7,8,10,12]:\n",
        "    month_day = 31\n",
        "elif int(user_inp) == 2:\n",
        "    month_day = 28\n",
        "else:\n",
        "    month_day = 30\n",
        "print(month_dict[user_inp],\"has\",month_day,\"days\")\n"
      ],
      "execution_count": null,
      "outputs": [
        {
          "output_type": "stream",
          "text": [
            "Enter the month number: 9\n",
            "September has 30 days\n"
          ],
          "name": "stdout"
        }
      ]
    },
    {
      "cell_type": "markdown",
      "metadata": {
        "id": "O7lnAdGlh6Xa"
      },
      "source": [
        "##### Q4. Write a program that prompts the user to enter a loan amount, annual interest rate, and number of years  for a car loan. Then calculate and print the monthly payment amount.\n",
        "\n",
        "Note:\n",
        "```\n",
        "PMT= [PV*i*((1+i)^n)]/[((1+i)^n)-1]\n",
        "```\n",
        "PMT is the monthly payment\n",
        "\n",
        "PV is the loan amount\n",
        "\n",
        "i is the interest rate per month in decimal form (interest rate percentage divided by 12)\n",
        "\n",
        "n is the number of months (term of the loan in months)\n",
        "\n",
        "```\n",
        "Loan Amount: 30000.00\n",
        "Annual Interest Rate: 4.00\n",
        "Years: 5\n",
        "Your monthly payment is: $552.50\n",
        "```"
      ]
    },
    {
      "cell_type": "code",
      "metadata": {
        "colab": {
          "base_uri": "https://localhost:8080/"
        },
        "id": "k9uBKogGKF2I",
        "outputId": "0658147d-3083-460e-849e-06edfa204077"
      },
      "source": [
        "try:\n",
        "  PV = float(input(\"Loan Amount: \"))\n",
        "  i = float(input(\"Annual Interest Rate: \"))/100/12\n",
        "  n = int(input(\"Years:\")) * 12\n",
        "  PMT = (PV*i*((1+i)**n))/(((1+i)**n)-1)\n",
        "  print(f\"Your monthly payment is: ${PMT:.2f}\")\n",
        "  \n",
        "except:\n",
        "  print(\"Invalid input\")"
      ],
      "execution_count": null,
      "outputs": [
        {
          "output_type": "stream",
          "text": [
            "Loan Amount: 30000\n",
            "Annual Interest Rate: 4\n",
            "Years:5\n",
            "Your monthly payment is: $552.50\n"
          ],
          "name": "stdout"
        }
      ]
    },
    {
      "cell_type": "code",
      "metadata": {
        "id": "p4B5JH5GiTs9",
        "colab": {
          "base_uri": "https://localhost:8080/"
        },
        "outputId": "b7e2386a-fd90-484a-e27e-9936b0bd31c3"
      },
      "source": [
        "# Type solution here\n",
        "try:\n",
        "    PV = float(input(\"Loan Amount: \"))\n",
        "    annual = float(input(\"Annual Interest Rate: \"))\n",
        "    years = int(input(\"Years: \"))\n",
        "    n = years*12\n",
        "    i = (annual/100/12)\n",
        "    PMT = (PV*i*((1+i)**n))/(((1+i)**n)-1)\n",
        "    print(f\"Your monthly payment is: ${PMT:.2f}\")\n",
        "    \n",
        "except ValueError:\n",
        "    print(\"invalid input\")"
      ],
      "execution_count": null,
      "outputs": [
        {
          "output_type": "stream",
          "text": [
            "Loan Amount: hk\n",
            "invalid input\n"
          ],
          "name": "stdout"
        }
      ]
    },
    {
      "cell_type": "markdown",
      "metadata": {
        "id": "SjiolJKgiWV-"
      },
      "source": [
        "##### Q5. Write a program to that prompts the user to enter a string. Then check whether or not the string is a palindrome.\n",
        "\n",
        "```\n",
        "Enter a string: Madam\n",
        "Madam, is a palindrome!\n",
        "```"
      ]
    },
    {
      "cell_type": "code",
      "metadata": {
        "colab": {
          "base_uri": "https://localhost:8080/"
        },
        "id": "qBEfRu5xMecq",
        "outputId": "bb7f75dd-439a-4cfc-efc2-dcfeb674b7c0"
      },
      "source": [
        "user_s = str(input(\"Enter a string: \")).lower()\n",
        "if user_s == user_s[::-1]:\n",
        "  print(\"Madam, is a palindrome!\")\n",
        "else: \n",
        "  print(\"It's not a palindrome!\")"
      ],
      "execution_count": null,
      "outputs": [
        {
          "output_type": "stream",
          "text": [
            "Enter a string: halah\n",
            "Madam, is a palindrome!\n"
          ],
          "name": "stdout"
        }
      ]
    },
    {
      "cell_type": "code",
      "metadata": {
        "id": "F5_M934Ri0es",
        "colab": {
          "base_uri": "https://localhost:8080/"
        },
        "outputId": "39675c1f-5a33-4c8f-8166-a866635af140"
      },
      "source": [
        "# Type solution here\n",
        "user_inp = input(\"Enter a string: \")\n",
        "if user_inp == user_inp[::-1]:\n",
        "    print(\"Madam, is a palindrome!\")\n",
        "else:\n",
        "    print(\"It's not a palindrome!\")\n",
        "\n"
      ],
      "execution_count": null,
      "outputs": [
        {
          "output_type": "stream",
          "text": [
            "Enter a string: jhihj\n",
            "Madam, is a palindrome!\n"
          ],
          "name": "stdout"
        }
      ]
    },
    {
      "cell_type": "markdown",
      "metadata": {
        "id": "BLBD6n9vkJEu"
      },
      "source": [
        "##### Q6. Write a program to compute and print all possible combinations of change for \\$1. Denominations to be considered – quarter, dime, nickel, penny.\n",
        "\n",
        "Hint: Use nested loops (loops within loops for the various denominations of coins)\n",
        "\n",
        "```\n",
        "Change for $1:\n",
        "0 quarters, 0 dimes, 0 nickels, 100 pennies\n",
        "…\n",
        "4 quarters, 0 dimes, 0 nickels, 0 pennies\n",
        "```"
      ]
    },
    {
      "cell_type": "code",
      "metadata": {
        "id": "HCEW9rpBPEfg"
      },
      "source": [
        ""
      ],
      "execution_count": null,
      "outputs": []
    },
    {
      "cell_type": "code",
      "metadata": {
        "id": "kAQsTjwDkZZ5",
        "colab": {
          "base_uri": "https://localhost:8080/"
        },
        "outputId": "9969a105-efab-46ec-9a93-9c0bd3b3c6a9"
      },
      "source": [
        "# Type solution here\n",
        "print(\"Change for $1:\")\n",
        "for quarters in range(4+1):\n",
        "    for dimes in range(10+1):\n",
        "        for nickels in range(20+1):\n",
        "            for pennies in range(100+1):\n",
        "                if quarters*25 + dimes*10 + nickels*5 + pennies == 100:\n",
        "                    print(f\"{quarters} quarters, {dimes} dimes, {nickels} nickels, {pennies} pennies\")\n"
      ],
      "execution_count": null,
      "outputs": [
        {
          "output_type": "stream",
          "text": [
            "Change for $1:\n",
            "0 quarters, 0 dimes,0 nickels,100 pennies\n",
            "0 quarters, 0 dimes,1 nickels,95 pennies\n",
            "0 quarters, 0 dimes,2 nickels,90 pennies\n",
            "0 quarters, 0 dimes,3 nickels,85 pennies\n",
            "0 quarters, 0 dimes,4 nickels,80 pennies\n",
            "0 quarters, 0 dimes,5 nickels,75 pennies\n",
            "0 quarters, 0 dimes,6 nickels,70 pennies\n",
            "0 quarters, 0 dimes,7 nickels,65 pennies\n",
            "0 quarters, 0 dimes,8 nickels,60 pennies\n",
            "0 quarters, 0 dimes,9 nickels,55 pennies\n",
            "0 quarters, 0 dimes,10 nickels,50 pennies\n",
            "0 quarters, 0 dimes,11 nickels,45 pennies\n",
            "0 quarters, 0 dimes,12 nickels,40 pennies\n",
            "0 quarters, 0 dimes,13 nickels,35 pennies\n",
            "0 quarters, 0 dimes,14 nickels,30 pennies\n",
            "0 quarters, 0 dimes,15 nickels,25 pennies\n",
            "0 quarters, 0 dimes,16 nickels,20 pennies\n",
            "0 quarters, 0 dimes,17 nickels,15 pennies\n",
            "0 quarters, 0 dimes,18 nickels,10 pennies\n",
            "0 quarters, 0 dimes,19 nickels,5 pennies\n",
            "0 quarters, 0 dimes,20 nickels,0 pennies\n",
            "0 quarters, 1 dimes,0 nickels,90 pennies\n",
            "0 quarters, 1 dimes,1 nickels,85 pennies\n",
            "0 quarters, 1 dimes,2 nickels,80 pennies\n",
            "0 quarters, 1 dimes,3 nickels,75 pennies\n",
            "0 quarters, 1 dimes,4 nickels,70 pennies\n",
            "0 quarters, 1 dimes,5 nickels,65 pennies\n",
            "0 quarters, 1 dimes,6 nickels,60 pennies\n",
            "0 quarters, 1 dimes,7 nickels,55 pennies\n",
            "0 quarters, 1 dimes,8 nickels,50 pennies\n",
            "0 quarters, 1 dimes,9 nickels,45 pennies\n",
            "0 quarters, 1 dimes,10 nickels,40 pennies\n",
            "0 quarters, 1 dimes,11 nickels,35 pennies\n",
            "0 quarters, 1 dimes,12 nickels,30 pennies\n",
            "0 quarters, 1 dimes,13 nickels,25 pennies\n",
            "0 quarters, 1 dimes,14 nickels,20 pennies\n",
            "0 quarters, 1 dimes,15 nickels,15 pennies\n",
            "0 quarters, 1 dimes,16 nickels,10 pennies\n",
            "0 quarters, 1 dimes,17 nickels,5 pennies\n",
            "0 quarters, 1 dimes,18 nickels,0 pennies\n",
            "0 quarters, 2 dimes,0 nickels,80 pennies\n",
            "0 quarters, 2 dimes,1 nickels,75 pennies\n",
            "0 quarters, 2 dimes,2 nickels,70 pennies\n",
            "0 quarters, 2 dimes,3 nickels,65 pennies\n",
            "0 quarters, 2 dimes,4 nickels,60 pennies\n",
            "0 quarters, 2 dimes,5 nickels,55 pennies\n",
            "0 quarters, 2 dimes,6 nickels,50 pennies\n",
            "0 quarters, 2 dimes,7 nickels,45 pennies\n",
            "0 quarters, 2 dimes,8 nickels,40 pennies\n",
            "0 quarters, 2 dimes,9 nickels,35 pennies\n",
            "0 quarters, 2 dimes,10 nickels,30 pennies\n",
            "0 quarters, 2 dimes,11 nickels,25 pennies\n",
            "0 quarters, 2 dimes,12 nickels,20 pennies\n",
            "0 quarters, 2 dimes,13 nickels,15 pennies\n",
            "0 quarters, 2 dimes,14 nickels,10 pennies\n",
            "0 quarters, 2 dimes,15 nickels,5 pennies\n",
            "0 quarters, 2 dimes,16 nickels,0 pennies\n",
            "0 quarters, 3 dimes,0 nickels,70 pennies\n",
            "0 quarters, 3 dimes,1 nickels,65 pennies\n",
            "0 quarters, 3 dimes,2 nickels,60 pennies\n",
            "0 quarters, 3 dimes,3 nickels,55 pennies\n",
            "0 quarters, 3 dimes,4 nickels,50 pennies\n",
            "0 quarters, 3 dimes,5 nickels,45 pennies\n",
            "0 quarters, 3 dimes,6 nickels,40 pennies\n",
            "0 quarters, 3 dimes,7 nickels,35 pennies\n",
            "0 quarters, 3 dimes,8 nickels,30 pennies\n",
            "0 quarters, 3 dimes,9 nickels,25 pennies\n",
            "0 quarters, 3 dimes,10 nickels,20 pennies\n",
            "0 quarters, 3 dimes,11 nickels,15 pennies\n",
            "0 quarters, 3 dimes,12 nickels,10 pennies\n",
            "0 quarters, 3 dimes,13 nickels,5 pennies\n",
            "0 quarters, 3 dimes,14 nickels,0 pennies\n",
            "0 quarters, 4 dimes,0 nickels,60 pennies\n",
            "0 quarters, 4 dimes,1 nickels,55 pennies\n",
            "0 quarters, 4 dimes,2 nickels,50 pennies\n",
            "0 quarters, 4 dimes,3 nickels,45 pennies\n",
            "0 quarters, 4 dimes,4 nickels,40 pennies\n",
            "0 quarters, 4 dimes,5 nickels,35 pennies\n",
            "0 quarters, 4 dimes,6 nickels,30 pennies\n",
            "0 quarters, 4 dimes,7 nickels,25 pennies\n",
            "0 quarters, 4 dimes,8 nickels,20 pennies\n",
            "0 quarters, 4 dimes,9 nickels,15 pennies\n",
            "0 quarters, 4 dimes,10 nickels,10 pennies\n",
            "0 quarters, 4 dimes,11 nickels,5 pennies\n",
            "0 quarters, 4 dimes,12 nickels,0 pennies\n",
            "0 quarters, 5 dimes,0 nickels,50 pennies\n",
            "0 quarters, 5 dimes,1 nickels,45 pennies\n",
            "0 quarters, 5 dimes,2 nickels,40 pennies\n",
            "0 quarters, 5 dimes,3 nickels,35 pennies\n",
            "0 quarters, 5 dimes,4 nickels,30 pennies\n",
            "0 quarters, 5 dimes,5 nickels,25 pennies\n",
            "0 quarters, 5 dimes,6 nickels,20 pennies\n",
            "0 quarters, 5 dimes,7 nickels,15 pennies\n",
            "0 quarters, 5 dimes,8 nickels,10 pennies\n",
            "0 quarters, 5 dimes,9 nickels,5 pennies\n",
            "0 quarters, 5 dimes,10 nickels,0 pennies\n",
            "0 quarters, 6 dimes,0 nickels,40 pennies\n",
            "0 quarters, 6 dimes,1 nickels,35 pennies\n",
            "0 quarters, 6 dimes,2 nickels,30 pennies\n",
            "0 quarters, 6 dimes,3 nickels,25 pennies\n",
            "0 quarters, 6 dimes,4 nickels,20 pennies\n",
            "0 quarters, 6 dimes,5 nickels,15 pennies\n",
            "0 quarters, 6 dimes,6 nickels,10 pennies\n",
            "0 quarters, 6 dimes,7 nickels,5 pennies\n",
            "0 quarters, 6 dimes,8 nickels,0 pennies\n",
            "0 quarters, 7 dimes,0 nickels,30 pennies\n",
            "0 quarters, 7 dimes,1 nickels,25 pennies\n",
            "0 quarters, 7 dimes,2 nickels,20 pennies\n",
            "0 quarters, 7 dimes,3 nickels,15 pennies\n",
            "0 quarters, 7 dimes,4 nickels,10 pennies\n",
            "0 quarters, 7 dimes,5 nickels,5 pennies\n",
            "0 quarters, 7 dimes,6 nickels,0 pennies\n",
            "0 quarters, 8 dimes,0 nickels,20 pennies\n",
            "0 quarters, 8 dimes,1 nickels,15 pennies\n",
            "0 quarters, 8 dimes,2 nickels,10 pennies\n",
            "0 quarters, 8 dimes,3 nickels,5 pennies\n",
            "0 quarters, 8 dimes,4 nickels,0 pennies\n",
            "0 quarters, 9 dimes,0 nickels,10 pennies\n",
            "0 quarters, 9 dimes,1 nickels,5 pennies\n",
            "0 quarters, 9 dimes,2 nickels,0 pennies\n",
            "0 quarters, 10 dimes,0 nickels,0 pennies\n",
            "1 quarters, 0 dimes,0 nickels,75 pennies\n",
            "1 quarters, 0 dimes,1 nickels,70 pennies\n",
            "1 quarters, 0 dimes,2 nickels,65 pennies\n",
            "1 quarters, 0 dimes,3 nickels,60 pennies\n",
            "1 quarters, 0 dimes,4 nickels,55 pennies\n",
            "1 quarters, 0 dimes,5 nickels,50 pennies\n",
            "1 quarters, 0 dimes,6 nickels,45 pennies\n",
            "1 quarters, 0 dimes,7 nickels,40 pennies\n",
            "1 quarters, 0 dimes,8 nickels,35 pennies\n",
            "1 quarters, 0 dimes,9 nickels,30 pennies\n",
            "1 quarters, 0 dimes,10 nickels,25 pennies\n",
            "1 quarters, 0 dimes,11 nickels,20 pennies\n",
            "1 quarters, 0 dimes,12 nickels,15 pennies\n",
            "1 quarters, 0 dimes,13 nickels,10 pennies\n",
            "1 quarters, 0 dimes,14 nickels,5 pennies\n",
            "1 quarters, 0 dimes,15 nickels,0 pennies\n",
            "1 quarters, 1 dimes,0 nickels,65 pennies\n",
            "1 quarters, 1 dimes,1 nickels,60 pennies\n",
            "1 quarters, 1 dimes,2 nickels,55 pennies\n",
            "1 quarters, 1 dimes,3 nickels,50 pennies\n",
            "1 quarters, 1 dimes,4 nickels,45 pennies\n",
            "1 quarters, 1 dimes,5 nickels,40 pennies\n",
            "1 quarters, 1 dimes,6 nickels,35 pennies\n",
            "1 quarters, 1 dimes,7 nickels,30 pennies\n",
            "1 quarters, 1 dimes,8 nickels,25 pennies\n",
            "1 quarters, 1 dimes,9 nickels,20 pennies\n",
            "1 quarters, 1 dimes,10 nickels,15 pennies\n",
            "1 quarters, 1 dimes,11 nickels,10 pennies\n",
            "1 quarters, 1 dimes,12 nickels,5 pennies\n",
            "1 quarters, 1 dimes,13 nickels,0 pennies\n",
            "1 quarters, 2 dimes,0 nickels,55 pennies\n",
            "1 quarters, 2 dimes,1 nickels,50 pennies\n",
            "1 quarters, 2 dimes,2 nickels,45 pennies\n",
            "1 quarters, 2 dimes,3 nickels,40 pennies\n",
            "1 quarters, 2 dimes,4 nickels,35 pennies\n",
            "1 quarters, 2 dimes,5 nickels,30 pennies\n",
            "1 quarters, 2 dimes,6 nickels,25 pennies\n",
            "1 quarters, 2 dimes,7 nickels,20 pennies\n",
            "1 quarters, 2 dimes,8 nickels,15 pennies\n",
            "1 quarters, 2 dimes,9 nickels,10 pennies\n",
            "1 quarters, 2 dimes,10 nickels,5 pennies\n",
            "1 quarters, 2 dimes,11 nickels,0 pennies\n",
            "1 quarters, 3 dimes,0 nickels,45 pennies\n",
            "1 quarters, 3 dimes,1 nickels,40 pennies\n",
            "1 quarters, 3 dimes,2 nickels,35 pennies\n",
            "1 quarters, 3 dimes,3 nickels,30 pennies\n",
            "1 quarters, 3 dimes,4 nickels,25 pennies\n",
            "1 quarters, 3 dimes,5 nickels,20 pennies\n",
            "1 quarters, 3 dimes,6 nickels,15 pennies\n",
            "1 quarters, 3 dimes,7 nickels,10 pennies\n",
            "1 quarters, 3 dimes,8 nickels,5 pennies\n",
            "1 quarters, 3 dimes,9 nickels,0 pennies\n",
            "1 quarters, 4 dimes,0 nickels,35 pennies\n",
            "1 quarters, 4 dimes,1 nickels,30 pennies\n",
            "1 quarters, 4 dimes,2 nickels,25 pennies\n",
            "1 quarters, 4 dimes,3 nickels,20 pennies\n",
            "1 quarters, 4 dimes,4 nickels,15 pennies\n",
            "1 quarters, 4 dimes,5 nickels,10 pennies\n",
            "1 quarters, 4 dimes,6 nickels,5 pennies\n",
            "1 quarters, 4 dimes,7 nickels,0 pennies\n",
            "1 quarters, 5 dimes,0 nickels,25 pennies\n",
            "1 quarters, 5 dimes,1 nickels,20 pennies\n",
            "1 quarters, 5 dimes,2 nickels,15 pennies\n",
            "1 quarters, 5 dimes,3 nickels,10 pennies\n",
            "1 quarters, 5 dimes,4 nickels,5 pennies\n",
            "1 quarters, 5 dimes,5 nickels,0 pennies\n",
            "1 quarters, 6 dimes,0 nickels,15 pennies\n",
            "1 quarters, 6 dimes,1 nickels,10 pennies\n",
            "1 quarters, 6 dimes,2 nickels,5 pennies\n",
            "1 quarters, 6 dimes,3 nickels,0 pennies\n",
            "1 quarters, 7 dimes,0 nickels,5 pennies\n",
            "1 quarters, 7 dimes,1 nickels,0 pennies\n",
            "2 quarters, 0 dimes,0 nickels,50 pennies\n",
            "2 quarters, 0 dimes,1 nickels,45 pennies\n",
            "2 quarters, 0 dimes,2 nickels,40 pennies\n",
            "2 quarters, 0 dimes,3 nickels,35 pennies\n",
            "2 quarters, 0 dimes,4 nickels,30 pennies\n",
            "2 quarters, 0 dimes,5 nickels,25 pennies\n",
            "2 quarters, 0 dimes,6 nickels,20 pennies\n",
            "2 quarters, 0 dimes,7 nickels,15 pennies\n",
            "2 quarters, 0 dimes,8 nickels,10 pennies\n",
            "2 quarters, 0 dimes,9 nickels,5 pennies\n",
            "2 quarters, 0 dimes,10 nickels,0 pennies\n",
            "2 quarters, 1 dimes,0 nickels,40 pennies\n",
            "2 quarters, 1 dimes,1 nickels,35 pennies\n",
            "2 quarters, 1 dimes,2 nickels,30 pennies\n",
            "2 quarters, 1 dimes,3 nickels,25 pennies\n",
            "2 quarters, 1 dimes,4 nickels,20 pennies\n",
            "2 quarters, 1 dimes,5 nickels,15 pennies\n",
            "2 quarters, 1 dimes,6 nickels,10 pennies\n",
            "2 quarters, 1 dimes,7 nickels,5 pennies\n",
            "2 quarters, 1 dimes,8 nickels,0 pennies\n",
            "2 quarters, 2 dimes,0 nickels,30 pennies\n",
            "2 quarters, 2 dimes,1 nickels,25 pennies\n",
            "2 quarters, 2 dimes,2 nickels,20 pennies\n",
            "2 quarters, 2 dimes,3 nickels,15 pennies\n",
            "2 quarters, 2 dimes,4 nickels,10 pennies\n",
            "2 quarters, 2 dimes,5 nickels,5 pennies\n",
            "2 quarters, 2 dimes,6 nickels,0 pennies\n",
            "2 quarters, 3 dimes,0 nickels,20 pennies\n",
            "2 quarters, 3 dimes,1 nickels,15 pennies\n",
            "2 quarters, 3 dimes,2 nickels,10 pennies\n",
            "2 quarters, 3 dimes,3 nickels,5 pennies\n",
            "2 quarters, 3 dimes,4 nickels,0 pennies\n",
            "2 quarters, 4 dimes,0 nickels,10 pennies\n",
            "2 quarters, 4 dimes,1 nickels,5 pennies\n",
            "2 quarters, 4 dimes,2 nickels,0 pennies\n",
            "2 quarters, 5 dimes,0 nickels,0 pennies\n",
            "3 quarters, 0 dimes,0 nickels,25 pennies\n",
            "3 quarters, 0 dimes,1 nickels,20 pennies\n",
            "3 quarters, 0 dimes,2 nickels,15 pennies\n",
            "3 quarters, 0 dimes,3 nickels,10 pennies\n",
            "3 quarters, 0 dimes,4 nickels,5 pennies\n",
            "3 quarters, 0 dimes,5 nickels,0 pennies\n",
            "3 quarters, 1 dimes,0 nickels,15 pennies\n",
            "3 quarters, 1 dimes,1 nickels,10 pennies\n",
            "3 quarters, 1 dimes,2 nickels,5 pennies\n",
            "3 quarters, 1 dimes,3 nickels,0 pennies\n",
            "3 quarters, 2 dimes,0 nickels,5 pennies\n",
            "3 quarters, 2 dimes,1 nickels,0 pennies\n",
            "4 quarters, 0 dimes,0 nickels,0 pennies\n"
          ],
          "name": "stdout"
        }
      ]
    },
    {
      "cell_type": "markdown",
      "metadata": {
        "id": "rUPDjYiIkbgs"
      },
      "source": [
        "##### Q7. Ask the user to enter two positive integers between 1 and 100. Read those integers. Then output a multiplication table of the first number times the second number. \n",
        "\n",
        "Note: You have to ensure the entered numbers are between 1 and 100 only.\n",
        "\n",
        "```\n",
        "Please enter an integer: 5\n",
        "Please enter another integer: 20\n",
        "5 x 1 = 5\n",
        "5 x 2 = 10\n",
        "5 x 3 = 15\n",
        "…\n",
        "5 x 20 = 100\n",
        "```"
      ]
    },
    {
      "cell_type": "code",
      "metadata": {
        "colab": {
          "base_uri": "https://localhost:8080/"
        },
        "id": "qYrVrMEMPQuz",
        "outputId": "3a2b44d3-d9c9-480d-ce0c-e598032d2483"
      },
      "source": [
        "# 2 and # 4\n",
        "num1 = int(input(\"Please enter an integer: \"))\n",
        "num2 = int(input(\"Please enter another integer: \"))\n",
        "\n",
        "while int(num1 <1) or int(num1) >100 or int(num2)<1 or int(num2) >100:\n",
        "  print(\"Please enter a valid input\")\n",
        "  num1 = int(input(\"Please enter an integer: \"))\n",
        "  num2 = int(input(\"Please enter an integer: \"))\n",
        "\n",
        "for i in range(1,num2+1):\n",
        "  print(f\"{num1} x {i} = {num1*i}\")\n"
      ],
      "execution_count": null,
      "outputs": [
        {
          "output_type": "stream",
          "text": [
            "Please enter an integer: 2\n",
            "Please enter another integer: 4\n",
            "2 x 1 = 2\n",
            "2 x 2 = 4\n",
            "2 x 3 = 6\n",
            "2 x 4 = 8\n"
          ],
          "name": "stdout"
        }
      ]
    },
    {
      "cell_type": "code",
      "metadata": {
        "id": "Qg0Orv1klHzA",
        "colab": {
          "base_uri": "https://localhost:8080/"
        },
        "outputId": "cfec86a0-d248-470e-8dea-28baaa5e9853"
      },
      "source": [
        "# Type solution here\n",
        "print(\"Note: Please enter number between 1 and 100\")\n",
        "first = input(\"Please enter an integer: \")\n",
        "second = input(\"Please enter another integer: \")\n",
        "\n",
        "while int(first) <= 1 or int(second) >= 100 or int(first) >= 100 or int(second) <= 1:\n",
        "    print(\"Invalid input! Please ensure both entered numbers are between 1 and 100.\")\n",
        "    first = input(\"Please enter an integer: \")\n",
        "    second = input(\"Please enter another integer:\")\n",
        "for i in range(1, int(second)+1):\n",
        "    print(f\"{first} x {i} = {int(first)*i}\")"
      ],
      "execution_count": null,
      "outputs": [
        {
          "output_type": "stream",
          "text": [
            "Note: Please enter number between 1 and 100\n",
            "Please enter an integer: 9\n",
            "Please enter another integer: 21\n",
            "9 x 1 = 9\n",
            "9 x 2 = 18\n",
            "9 x 3 = 27\n",
            "9 x 4 = 36\n",
            "9 x 5 = 45\n",
            "9 x 6 = 54\n",
            "9 x 7 = 63\n",
            "9 x 8 = 72\n",
            "9 x 9 = 81\n",
            "9 x 10 = 90\n",
            "9 x 11 = 99\n",
            "9 x 12 = 108\n",
            "9 x 13 = 117\n",
            "9 x 14 = 126\n",
            "9 x 15 = 135\n",
            "9 x 16 = 144\n",
            "9 x 17 = 153\n",
            "9 x 18 = 162\n",
            "9 x 19 = 171\n",
            "9 x 20 = 180\n",
            "9 x 21 = 189\n"
          ],
          "name": "stdout"
        }
      ]
    },
    {
      "cell_type": "markdown",
      "metadata": {
        "id": "SbnbPUPTlLD9"
      },
      "source": [
        "##### Q8. Write a program to ask the user to enter a password. Then check to see if it is a valid password based on these requirements -\n",
        "\n",
        "Must be at least 8 characters long\n",
        "\n",
        "Must contain both uppercase and lowercase letters\n",
        "\n",
        "Must contain at least one number between 0-9\n",
        "\n",
        "Must contain a special character -!,@,#,$\n",
        "\n",
        "If the password is not valid, ask the user to re-enter. This should continue until the user enters a valid password. After a valid password is entered, print Access Granted!\n",
        "\n",
        "```\n",
        "Please enter a password. Follow these requirements - \n",
        "a. Must be at least 8 characters long\n",
        "b. Must contain both uppercase and lowercase letters\n",
        "c. Must contain at least one number between 0-9\n",
        "d. Must contain a special character -!,@,#,$\n",
        "Password: HelloWorld1\n",
        "Invalid password. Try again!\n",
        "Password: Hello@World1\n",
        "Access Granted!\n",
        "```\n"
      ]
    },
    {
      "cell_type": "code",
      "metadata": {
        "colab": {
          "base_uri": "https://localhost:8080/"
        },
        "id": "nQj6WlULR1_4",
        "outputId": "24f2137b-7b1a-4899-f191-38bcc5d29331"
      },
      "source": [
        "symbol = [\"-\",\"@\",\"!\",\"#\",\"$\"]\n",
        "print(\"Please enter a password. Follow these requirements -\") \n",
        "print(\"a. Must be at least 8 characters long\")\n",
        "print(\"b. Must contain both uppercase and lowercase letters\")\n",
        "print(\"c. Must contain at least one number between 0-9\")\n",
        "print(\"d. Must contain a special character -!,@,#,$)\")\n",
        "while True:\n",
        "  pw = str(input(\"Password: \"))\n",
        "\n",
        "  if (len(pw) >8 and\n",
        "    any(x.isdigit() for x in pw) and\n",
        "    any(x.isupper() for x in pw) and\n",
        "    any(x.islower() for x in pw) and\n",
        "    any(x in symbol for x in pw)):\n",
        "    print(\"Access Granted!\")\n",
        "    break\n",
        "  else: \n",
        "    print(\"Invalid password. Try again!\")\n",
        "    pw = str(input(\"Password: \"))"
      ],
      "execution_count": null,
      "outputs": [
        {
          "output_type": "stream",
          "text": [
            "Please enter a password. Follow these requirements -\n",
            "a. Must be at least 8 characters long\n",
            "b. Must contain both uppercase and lowercase letters\n",
            "c. Must contain at least one number between 0-9\n",
            "d. Must contain a special character -!,@,#,$)\n",
            "Password: osdhkahs98\n",
            "Invalid password. Try again!\n",
            "Password: djakjb287!\n",
            "Password: FLjsalk902910@\n",
            "Access Granted!\n"
          ],
          "name": "stdout"
        }
      ]
    },
    {
      "cell_type": "code",
      "metadata": {
        "id": "OXmZ177Rl-RV",
        "colab": {
          "base_uri": "https://localhost:8080/"
        },
        "outputId": "b252f0c8-df40-49d2-debf-42ac54e0cba2"
      },
      "source": [
        "# Type solution here\n",
        "print(\"Please enter a password. Follow these requirements -\")\n",
        "print(\"a. Must be at least 8 characters long\")\n",
        "print(\"b. Must contain both uppercase and lowercase letters\")\n",
        "print(\"c. Must contain at least one number between 0-9\")\n",
        "print(\"d. Must contain a special character -!,@,#,$\")\n",
        "\n",
        "pw = input(\"Password: \")\n",
        "start = False\n",
        "special = [\"!\", \"@\", \"#\", \"$\"]\n",
        "while start is False:\n",
        "    start = True\n",
        "    if len(pw) < 8:\n",
        "        start = False\n",
        "    if not any(i.isupper() for i in pw):\n",
        "        start = False\n",
        "    if not any(i.islower() for i in pw):\n",
        "        start = False\n",
        "    if not any(i.isdigit() for i in pw):\n",
        "        start = False\n",
        "    if not any(i in special for i in pw):\n",
        "        start = False\n",
        "    if start:\n",
        "        break\n",
        "    else:\n",
        "        print(\"Invalid password. Try again!\")\n",
        "        pw = input(\"Password: \")\n",
        "print(\"Access Granted!\")"
      ],
      "execution_count": null,
      "outputs": [
        {
          "output_type": "stream",
          "text": [
            "Please enter a password. Follow these requirements -\n",
            "a. Must be at least 8 characters long\n",
            "b. Must contain both uppercase and lowercase letters\n",
            "c. Must contain at least one number between 0-9\n",
            "d. Must contain a special character -!,@,#,$\n",
            "Password: uh\n",
            "Invalid password. Try again!\n",
            "Password: hkjlkjlY!9\n",
            "Access Granted!\n"
          ],
          "name": "stdout"
        }
      ]
    },
    {
      "cell_type": "markdown",
      "metadata": {
        "id": "-0sdutTDnTKA"
      },
      "source": [
        "##### Q9. Given the score sheet of participants in a competition, you are required to find the runner-up score. You are given scores in a list. Find the score of the runner-up.\n",
        "\n",
        "```\n",
        "list1 - [2, 3, 6, 6, 5]\n",
        "runner_up - 5\n",
        "\n",
        "list2 - [1, 7, 5, 3, 10, 4, 5, 5, 6, 11]\n",
        "runner_up - 10\n",
        "```"
      ]
    },
    {
      "cell_type": "code",
      "metadata": {
        "colab": {
          "base_uri": "https://localhost:8080/"
        },
        "id": "SLNqc30RYXKM",
        "outputId": "c02c516c-4741-42e9-94d1-cc03a2c773d6"
      },
      "source": [
        "\n",
        "list1 = [1, 7, 5, 3, 10, 4, 5, 5, 6, 11]\n",
        "list_re = set(list1)\n",
        "list_re.remove(max(list_re))\n",
        "print(\"runner_up -\", max(list_re))"
      ],
      "execution_count": null,
      "outputs": [
        {
          "output_type": "stream",
          "text": [
            "runner_up - 10\n"
          ],
          "name": "stdout"
        }
      ]
    },
    {
      "cell_type": "code",
      "metadata": {
        "id": "12YP9OaqpGRK",
        "colab": {
          "base_uri": "https://localhost:8080/"
        },
        "outputId": "4fd4499d-c044-489d-e508-f928ddbf1159"
      },
      "source": [
        "# Type solution here\n",
        "list1 = [22,44,22,4,6,7,44]\n",
        "list_re = set(list1)\n",
        "list_re.remove(max(list1))\n",
        "print(\"runner_up -\", max(list_re))"
      ],
      "execution_count": null,
      "outputs": [
        {
          "output_type": "stream",
          "text": [
            "runner_up - 22\n"
          ],
          "name": "stdout"
        }
      ]
    }
  ]
}