{
  "nbformat": 4,
  "nbformat_minor": 0,
  "metadata": {
    "colab": {
      "name": "HW2_Pandas_Numpy.ipynb",
      "provenance": [],
      "collapsed_sections": [],
      "include_colab_link": true
    },
    "kernelspec": {
      "name": "python3",
      "display_name": "Python 3"
    }
  },
  "cells": [
    {
      "cell_type": "markdown",
      "metadata": {
        "id": "view-in-github",
        "colab_type": "text"
      },
      "source": [
        "<a href=\"https://colab.research.google.com/github/haley3y/ITP_ML/blob/main/HW2_Pandas_Numpy.ipynb\" target=\"_parent\"><img src=\"https://colab.research.google.com/assets/colab-badge.svg\" alt=\"Open In Colab\"/></a>"
      ]
    },
    {
      "cell_type": "markdown",
      "metadata": {
        "id": "bNsIruOzI4iF"
      },
      "source": [
        "## **Homework 2**\n",
        "\n",
        "### Create a copy of the notebook to start answering the questions. Name your notebook in the format HW1_lastname_firstname.ipynb to facilitate the grading process. \n",
        "\n",
        "### Answer all the questions, test your code to ensure there are no errors and the results are as expected. Once you have answered all the questions, save the final copy, then go to File-> click on Download.ipynb. Once the local copy has been downloaded, submit your file on Blackboard under the corresponding assignment section. Also provide us a link to your notebook during submission. \n",
        "\n",
        "### **The due date of this homework is 02/12/2021 (Friday).**\n",
        "\n",
        "### Please ensure you follow all the steps mentioned in the homework.\n",
        "\n",
        "### All the questions have a sample input and output to help you understand the question.\n",
        "\n",
        "### You can submit your solutions any number of times until the deadline.\n"
      ]
    },
    {
      "cell_type": "markdown",
      "metadata": {
        "id": "U3Yz3s2uio1F"
      },
      "source": [
        "**Q1. Lets consider your data is like the below cell:**\n",
        "\n",
        "**Q1-1**: Write a program that create a dataframe from the data.\n",
        "\n",
        "**Q1-2:** Select people that are psychologist or teacher and their number of cars is greater than their family size.\n",
        "\n",
        "**Q1-3:** Select people who have at most 2 family members and at least 1 car.\n",
        "\n",
        "**Q1-4:** Write a code that get number of unique jobs in this dataset.\n",
        "\n",
        "\n",
        "\n"
      ]
    },
    {
      "cell_type": "code",
      "metadata": {
        "id": "yR8lcOtcjxXD"
      },
      "source": [
        "data = {\"name\": [\"Joseph\", \"Jacob\", \"Sam\", \"Jesee\", \"Ryan\", \"Lisa\", \"Lee\"],\n",
        "        \"job\": [\"teacher\", \"psychologist\", \"data scientist\", \"software developer\", \"psychologist\", \"psychologist\", \"teacher\"],\n",
        "        \"family_size\": [3, 2, 1, 4, 2, 3, 2],\n",
        "        \"num_cars\": [3, 1, 1, 2, 2, 4, 1]}"
      ],
      "execution_count": null,
      "outputs": []
    },
    {
      "cell_type": "code",
      "metadata": {
        "colab": {
          "base_uri": "https://localhost:8080/"
        },
        "id": "nCrLzSxEy6mh",
        "outputId": "9ae25a59-f2b0-47de-c0a4-d7ee3c27fe6e"
      },
      "source": [
        "# psy or teacher\n",
        "import pandas as pd\n",
        "df = pd.DataFrame(data)\n",
        "\n",
        "# fil = df[df[\"job\"].isin([\"psychologist\",\"teacher\"])& (df[\"num_cars\"]> df[\"family_size\"])]\n",
        "# print(fil)\n",
        "\n",
        "# print(df[(df[\"family_size\"]<=2) & (df[\"num_cars\"] >=1)])\n",
        "\n",
        "print(len(pd.array(df[\"job\"]).unique()))\n",
        "\n",
        "print(len(set(df[\"job\"]))) # use max & get unique results"
      ],
      "execution_count": null,
      "outputs": [
        {
          "output_type": "stream",
          "text": [
            "4\n",
            "4\n"
          ],
          "name": "stdout"
        }
      ]
    },
    {
      "cell_type": "code",
      "metadata": {
        "id": "Youi5qMaP34p",
        "colab": {
          "base_uri": "https://localhost:8080/"
        },
        "outputId": "9b850487-afd3-46d2-b6ad-c210bea1c2ee"
      },
      "source": [
        "# Type your solution here\n",
        "import pandas as pd\n",
        "\n",
        "# Q1-1: Write a program that create a dataframe from the data\n",
        "df = pd.DataFrame(data)\n",
        "print(df)\n",
        "\n",
        "# Q1-2: Select people that are psychologist or teacher and their number of cars is greater than their family size.\n",
        "df_con1 = df[(df[\"job\"]==\"psychologist\") | (df[\"job\"]==\"teacher\")]\n",
        "df_con2 = df_con1[(df_con1[\"num_cars\"])>(df_con1[\"family_size\"])]\n",
        "print(df_con2)\n",
        "\n",
        "# Q1-3: Select people who have at most 2 family members and at least 1 car.\n",
        "df_con3 = df[(df[\"family_size\"]<=2) & (df[\"num_cars\"]>=1)]\n",
        "print(df_con3)\n",
        "\n",
        "# Q1-4: Write a code that get number of unique jobs in this dataset.\n",
        "print(len(df[\"job\"].unique()))"
      ],
      "execution_count": null,
      "outputs": [
        {
          "output_type": "stream",
          "text": [
            "1:      name                 job  family_size  num_cars\n",
            "0  Joseph             teacher            3         3\n",
            "1   Jacob        psychologist            2         1\n",
            "2     Sam      data scientist            1         1\n",
            "3   Jesee  software developer            4         2\n",
            "4    Ryan        psychologist            2         2\n",
            "5    Lisa        psychologist            3         4\n",
            "6     Lee             teacher            2         1\n",
            "2:    name           job  family_size  num_cars\n",
            "5  Lisa  psychologist            3         4\n",
            "3:     name             job  family_size  num_cars\n",
            "1  Jacob    psychologist            2         1\n",
            "2    Sam  data scientist            1         1\n",
            "4   Ryan    psychologist            2         2\n",
            "6    Lee         teacher            2         1\n",
            "4: 4\n"
          ],
          "name": "stdout"
        }
      ]
    },
    {
      "cell_type": "markdown",
      "metadata": {
        "id": "Ow6nG8k4l91X"
      },
      "source": [
        "**Q2. Lets consider you have two series like the below cell. Compute the mean of weights of each fruit.**"
      ]
    },
    {
      "cell_type": "code",
      "metadata": {
        "id": "u-X_DoOzVLLB"
      },
      "source": [
        "import numpy as np\n",
        "fruit = pd.Series(np.random.choice(['apple', 'banana', 'carrot'], 10))\n",
        "weights = pd.Series(np.linspace(1, 10, 10))"
      ],
      "execution_count": null,
      "outputs": []
    },
    {
      "cell_type": "code",
      "metadata": {
        "colab": {
          "base_uri": "https://localhost:8080/"
        },
        "id": "HkeFCVgg3UvB",
        "outputId": "f00bae68-0f26-4462-fc83-9010d2bfcda4"
      },
      "source": [
        "weights.groupby(fruit).mean()"
      ],
      "execution_count": null,
      "outputs": [
        {
          "output_type": "execute_result",
          "data": {
            "text/plain": [
              "apple     8.000000\n",
              "banana    2.333333\n",
              "carrot    6.000000\n",
              "dtype: float64"
            ]
          },
          "metadata": {
            "tags": []
          },
          "execution_count": 32
        }
      ]
    },
    {
      "cell_type": "code",
      "metadata": {
        "id": "S419nzYnpU__",
        "colab": {
          "base_uri": "https://localhost:8080/"
        },
        "outputId": "1f042945-38f1-4981-84c5-c3fcbe1400bc"
      },
      "source": [
        "# Type your solution here\n",
        "# Q2. Lets consider you have two series like the below cell. Compute the mean of weights of each fruit.\n",
        "fruit_info = pd.DataFrame({\"fruit\":fruit, \"weights\":weights})\n",
        "#print(fruit_info)\n",
        "\n",
        "# print(fruit_info[\"fruit\"].unique())\n",
        "\n",
        "# mean weights of apple\n",
        "apple = fruit_info[fruit_info.fruit == \"apple\"]\n",
        "a_wg = np.mean(apple.weights)\n",
        "print(\"Mean weights of apple:\", a_wg)\n",
        "\n",
        "# mean weights of carrot\n",
        "carrot= fruit_info[fruit_info.fruit == \"carrot\"]\n",
        "c_wg = np.mean(carrot.weights)\n",
        "print(\"Mean weights of carrot:\", c_wg)\n",
        "\n",
        "# mean weights of banana\n",
        "banana= fruit_info[fruit_info.fruit == \"banana\"]\n",
        "# print(banana)\n",
        "b_wg = np.mean(banana.weights)\n",
        "print(\"Mean weights of banana:\", b_wg)\n"
      ],
      "execution_count": null,
      "outputs": [
        {
          "output_type": "stream",
          "text": [
            "Mean weights of apple: 8.0\n",
            "Mean weights of carrot: 6.0\n",
            "Mean weights of banana: 2.3333333333333335\n"
          ],
          "name": "stdout"
        }
      ]
    },
    {
      "cell_type": "markdown",
      "metadata": {
        "id": "g4lKaPIhtVrt"
      },
      "source": [
        "**Q3. Consider the below course_name array:**\n",
        "\n",
        "**Q3-1**: Write a NumPy program to get the indices of the sorted elements of **course_name** array.\n",
        "\n",
        "**Q3-2:** Write numpy code to check whether each element of **course_name** array starts with \"P\".\n"
      ]
    },
    {
      "cell_type": "code",
      "metadata": {
        "id": "RUP_jp2KtVrx"
      },
      "source": [
        "import numpy as np\n",
        "course_name = np.array(['Python', 'JS', 'examples', 'PHP', 'html'])"
      ],
      "execution_count": null,
      "outputs": []
    },
    {
      "cell_type": "code",
      "metadata": {
        "id": "U1i27POxv-o_",
        "colab": {
          "base_uri": "https://localhost:8080/"
        },
        "outputId": "d0e22e9f-8af1-4219-a2a9-54608e224a2a"
      },
      "source": [
        "# Type your solution here\n",
        "# Q3-1: Write a NumPy program to get the indices of the sorted elements of course_name array.\n",
        "sort_i = np.argsort(course_name)\n",
        "print(sort_i)\n",
        "\n",
        "# Q3-2: Write numpy code to check whether each element of course_name array starts with \"P\".\n",
        "check_p = np.char.startswith(course_name, \"P\")\n",
        "print(check_p)\n"
      ],
      "execution_count": null,
      "outputs": [
        {
          "output_type": "stream",
          "text": [
            "[1 3 0 2 4]\n",
            "[ True False False  True False]\n"
          ],
          "name": "stdout"
        }
      ]
    },
    {
      "cell_type": "markdown",
      "metadata": {
        "id": "sUFItNFOxwkz"
      },
      "source": [
        "**Q4. Consider the below student_id array:**\n",
        "\n",
        "**Q4-1:** Reverse the **student_id** array. Print both original and reversed array.\n",
        "\n",
        "**Q4-2:** Get the 3-largest values of **student_id** array."
      ]
    },
    {
      "cell_type": "code",
      "metadata": {
        "id": "Rl5qzEjFv0nw"
      },
      "source": [
        "import numpy as np\n",
        "student_id = np.array([1023, 5202, 6230, 1671, 1682, 5241, 4532])"
      ],
      "execution_count": null,
      "outputs": []
    },
    {
      "cell_type": "code",
      "metadata": {
        "colab": {
          "base_uri": "https://localhost:8080/"
        },
        "id": "xtdXwplg72Lu",
        "outputId": "e5092677-c5b5-4e8b-9cb4-27266c56c8bf"
      },
      "source": [
        "# print(student_id)\n",
        "# print(student_id[::-1])\n",
        "\n",
        "\n",
        "# hav to be within numpy\n",
        "sorted = np.unique(np.sort(student_id))\n",
        "print(sorted[-3:])\n",
        "# sorted[0:len(sorted):-1]"
      ],
      "execution_count": null,
      "outputs": [
        {
          "output_type": "stream",
          "text": [
            "[5202 5241 6230]\n"
          ],
          "name": "stdout"
        }
      ]
    },
    {
      "cell_type": "code",
      "metadata": {
        "id": "EetvHGrUxMCC",
        "colab": {
          "base_uri": "https://localhost:8080/"
        },
        "outputId": "8919e5a4-2fb8-4e98-fb8b-178e7d0e2bb4"
      },
      "source": [
        "# Type your solution here\n",
        "\n",
        "# Q4-1: Reverse the student_id array. Print both original and reversed array.\n",
        "print(\"oringinal:\", student_id)\n",
        "student_id_re = student_id[::-1]\n",
        "# print reversed array\n",
        "print(\"reversed:\", student_id_re)\n",
        "\n",
        "# Q4-2: Get the 3-largest values of student_id array.\n",
        "stud_sort = np.sort(student_id)\n",
        "# print(stud_sort)\n",
        "\n",
        "# ensure no duplicate value\n",
        "stud_unique = np.unique(stud_sort)\n",
        "\n",
        "# subset the top 3 values\n",
        "top_3 = stud_unique[-3:]\n",
        "print(\"top3:\", top_3)"
      ],
      "execution_count": null,
      "outputs": [
        {
          "output_type": "stream",
          "text": [
            "oringinal: [1023 1671 1682 4532 5202 5241 6230]\n",
            "reversed: [6230 5241 5202 4532 1682 1671 1023]\n",
            "top3: [5202 5241 6230]\n"
          ],
          "name": "stdout"
        }
      ]
    },
    {
      "cell_type": "markdown",
      "metadata": {
        "id": "uKRyDVuW6B19"
      },
      "source": [
        "# **Q5: Write a numpy program to print sum of all the multiples of 3 or 5 below 100**"
      ]
    },
    {
      "cell_type": "code",
      "metadata": {
        "id": "ZIixq1gz6OK3",
        "colab": {
          "base_uri": "https://localhost:8080/"
        },
        "outputId": "f8f981d3-4df1-4af1-c8b6-84a028fc2785"
      },
      "source": [
        "# Type your solution here\n",
        "test_arr = np.arange(1, 150, 2)\n",
        "\n",
        "con_q5 = test_arr[((test_arr%3 ==0)|(test_arr%5 ==0)) &(test_arr<100)]\n",
        "# print(con_q5)\n",
        "\n",
        "sum_q5 = sum(con_q5)\n",
        "print(sum_q5)\n",
        "\n",
        "# Hint: you can use arange to start off"
      ],
      "execution_count": null,
      "outputs": [
        {
          "output_type": "stream",
          "text": [
            "1232\n"
          ],
          "name": "stdout"
        }
      ]
    },
    {
      "cell_type": "code",
      "metadata": {
        "colab": {
          "base_uri": "https://localhost:8080/"
        },
        "id": "yO-TH7woApfS",
        "outputId": "717a2525-72b8-41ad-e0e3-7b44ec09713e"
      },
      "source": [
        "test_arr = np.arange(1, 150, 2)\n",
        "\n",
        "result = test_arr[((test_arr%3 == 0)|(test_arr%5 == 0)) & (test_arr<100)]\n",
        "print(result)\n",
        "\n",
        "print(sum(result))"
      ],
      "execution_count": null,
      "outputs": [
        {
          "output_type": "stream",
          "text": [
            "[ 3  5  9 15 21 25 27 33 35 39 45 51 55 57 63 65 69 75 81 85 87 93 95 99]\n",
            "1232\n"
          ],
          "name": "stdout"
        }
      ]
    },
    {
      "cell_type": "markdown",
      "metadata": {
        "id": "2CWJOsP24c34"
      },
      "source": [
        "**Q6. Consider the below array.**\n",
        "\n",
        "Q6.1. Write a code to swap column 1 with column 2.\n",
        "\n",
        "Q6.2. Write a code to swap row 0 with row 1."
      ]
    },
    {
      "cell_type": "code",
      "metadata": {
        "id": "3OG6X5Eg5KSM",
        "colab": {
          "base_uri": "https://localhost:8080/"
        },
        "outputId": "289a6e60-6b06-4648-fde7-f69006cd34e3"
      },
      "source": [
        "import numpy as np\n",
        "\n",
        "arr = np.arange(12).reshape(3,4)\n",
        "print(arr)\n",
        "\n",
        "# arr[:,[2,1]] = arr[:,[1,2]]\n",
        "# print(arr)\n",
        "\n",
        "arr2 = np.arange(12).reshape(3,4)\n",
        "arr2[[1,0],:] = arr2[[0,1]\n",
        "print(arr2)"
      ],
      "execution_count": null,
      "outputs": [
        {
          "output_type": "stream",
          "text": [
            "[[ 0  1  2  3]\n",
            " [ 4  5  6  7]\n",
            " [ 8  9 10 11]]\n",
            "[[ 0  1  2  3]\n",
            " [ 1  5  6  7]\n",
            " [ 8  9 10 11]]\n"
          ],
          "name": "stdout"
        }
      ]
    },
    {
      "cell_type": "code",
      "metadata": {
        "id": "Q-Q91DpO5YYW",
        "colab": {
          "base_uri": "https://localhost:8080/"
        },
        "outputId": "02c3183d-1ae4-4c73-d360-785700b07981"
      },
      "source": [
        "# Type your solution here\n",
        "arr2 = np.arange(12).reshape(3,4)\n",
        "\n",
        "# Q6.1. Write a code to swap column 1 with column 2.\n",
        "arr[:,[1,2]] = arr[:,[2,1]]\n",
        "print(arr)\n",
        "\n",
        "# Q6.2. Write a code to swap row 0 with row 1.\n",
        "arr2[[0,1],:] = arr2[[1,0],:]\n",
        "print(arr2)"
      ],
      "execution_count": null,
      "outputs": [
        {
          "output_type": "stream",
          "text": [
            "[[ 0  2  1  3]\n",
            " [ 4  6  5  7]\n",
            " [ 8 10  9 11]]\n",
            "[[ 4  5  6  7]\n",
            " [ 0  1  2  3]\n",
            " [ 8  9 10 11]]\n"
          ],
          "name": "stdout"
        }
      ]
    }
  ]
}